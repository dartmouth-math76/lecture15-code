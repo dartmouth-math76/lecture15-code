{
 "cells": [
  {
   "cell_type": "markdown",
   "metadata": {},
   "source": [
    "## Useful Gaussian Identities\n",
    "\n",
    "#### Density Function\n",
    "$$\n",
    "\\begin{eqnarray*}\n",
    "f(x) &=& N(\\mu,\\Sigma)\\\\\n",
    "& = & (2\\pi)^{-\\frac{d}{2}} \\det(\\Sigma)^{-\\frac{1}{2}} \\exp\\left[-\\frac{1}{2}(x-\\mu)^T\\Sigma^{-1}(x-\\mu) \\right]\n",
    "\\end{eqnarray*}\n",
    "$$\n",
    "Or in log form\n",
    "$$\n",
    "\\log f(x) = -\\frac{d}{2}\\log(2\\pi) - \\frac{1}{2} \\log\\det(\\Sigma) -\\frac{1}{2}(x-\\mu)^T\\Sigma^{-1}(x-\\mu) \n",
    "$$\n",
    "\n",
    "#### Linear Transformations\n",
    "$$\n",
    "X\\sim N(\\mu,\\Sigma) \\quad \\Rightarrow \\quad (AX+b)\\sim N(A\\mu + b, A\\Sigma A^T)\n",
    "$$\n",
    "\n",
    "#### Block Definition of Joint Density\n",
    "$$\n",
    "\\begin{eqnarray*}\n",
    "f(x,y) = N\\left(\\left[\\begin{array}{c}\\mu_x\\\\ \\mu_y\\end{array}\\right], \\left[\\begin{array}{cc}\\Sigma_{xx} & \\Sigma_{xy}\\\\ \\Sigma_{xy}^T & \\Sigma_{yy} \\end{array}\\right]\\right)\n",
    "\\end{eqnarray*}\n",
    "$$\n",
    "\n",
    "#### Marginal Distributions\n",
    "$$\n",
    "\\begin{eqnarray*}\n",
    "f(x) = \\int_{\\Omega_y} f(x,y) dy = N(\\mu_x, \\Sigma_{xx})\\\\\n",
    "\\end{eqnarray*}\n",
    "$$\n",
    "\n",
    "#### Conditional Distributions\n",
    "$$\n",
    "f(x|y=\\bar{y}) = N\\left(\\mu_x + \\Sigma_{xy}\\Sigma_{yy}^{-1}(\\bar{y}-\\mu_y), \\Sigma_{xx} - \\Sigma_{xy}\\Sigma_{yy}^{-1}\\Sigma_{xy}^T \\right)\n",
    "$$\n"
   ]
  },
  {
   "cell_type": "code",
   "execution_count": 3,
   "metadata": {},
   "outputs": [],
   "source": [
    "%matplotlib inline\n",
    "import numpy as np\n",
    "import matplotlib.pyplot as plt\n",
    "import pandas as pd"
   ]
  },
  {
   "cell_type": "code",
   "execution_count": 5,
   "metadata": {},
   "outputs": [
    {
     "name": "stdout",
     "output_type": "stream",
     "text": [
      "[[1.  0.5]\n",
      " [0.5 2. ]]\n"
     ]
    }
   ],
   "source": [
    "sigma = np.array([[1.0, 0.5],\n",
    "                  [0.5, 2.0]])\n",
    "print(sigma)"
   ]
  },
  {
   "cell_type": "code",
   "execution_count": 6,
   "metadata": {},
   "outputs": [
    {
     "name": "stdout",
     "output_type": "stream",
     "text": [
      "[[0. 0.]\n",
      " [0. 0.]]\n"
     ]
    }
   ],
   "source": [
    "print(sigma-sigma.T)"
   ]
  },
  {
   "cell_type": "code",
   "execution_count": 7,
   "metadata": {},
   "outputs": [
    {
     "name": "stdout",
     "output_type": "stream",
     "text": [
      "[1. 1.]\n"
     ]
    }
   ],
   "source": [
    "mu = np.ones(2)\n",
    "print(mu)"
   ]
  },
  {
   "cell_type": "code",
   "execution_count": 8,
   "metadata": {},
   "outputs": [],
   "source": [
    "x = np.array([0.1, 0.2])"
   ]
  },
  {
   "cell_type": "code",
   "execution_count": 9,
   "metadata": {},
   "outputs": [
    {
     "name": "stdout",
     "output_type": "stream",
     "text": [
      "[0.1 0.2]\n"
     ]
    }
   ],
   "source": [
    "print(x)"
   ]
  },
  {
   "cell_type": "markdown",
   "metadata": {},
   "source": [
    "$$\n",
    "\\log f(x) = -\\frac{d}{2}\\log(2\\pi) - \\frac{1}{2} \\log\\det(\\Sigma) -\\frac{1}{2}(x-\\mu)^T\\Sigma^{-1}(x-\\mu) \n",
    "$$"
   ]
  },
  {
   "cell_type": "code",
   "execution_count": 13,
   "metadata": {},
   "outputs": [
    {
     "name": "stdout",
     "output_type": "stream",
     "text": [
      "-2.5576849603770566\n"
     ]
    }
   ],
   "source": [
    "d = mu.shape[0]\n",
    "part1 = -0.5*d * np.log(2.0*np.pi)\n",
    "\n",
    "# det = np.linalg.det(sigma)\n",
    "sign, log_det = np.linalg.slogdet(sigma)\n",
    "part2 = -0.5 * log_det\n",
    "\n",
    "part3 = -0.5 * (x - mu).T @ np.linalg.solve(sigma, x-mu)\n",
    "\n",
    "log_pdf = part1 + part2 + part3\n",
    "print(log_pdf)"
   ]
  },
  {
   "cell_type": "code",
   "execution_count": 17,
   "metadata": {},
   "outputs": [],
   "source": [
    "def LogGaussianDensity(x, mean, cov):\n",
    "    \n",
    "    d = mean.shape[0]\n",
    "    part1 = -0.5*d * np.log(2.0*np.pi)\n",
    "\n",
    "    # det = np.linalg.det(sigma)\n",
    "    sign, log_det = np.linalg.slogdet(cov)\n",
    "    part2 = -0.5 * log_det\n",
    "\n",
    "    part3 = -0.5 * (x - mean).T @ np.linalg.solve(cov, x-mean)\n",
    "\n",
    "    log_pdf = part1 + part2 + part3\n",
    "    \n",
    "    return log_pdf\n",
    "    "
   ]
  },
  {
   "cell_type": "code",
   "execution_count": 18,
   "metadata": {},
   "outputs": [
    {
     "name": "stdout",
     "output_type": "stream",
     "text": [
      "-2.5576849603770566\n"
     ]
    }
   ],
   "source": [
    "print( LogGaussianDensity(x, mu, sigma))"
   ]
  },
  {
   "cell_type": "markdown",
   "metadata": {},
   "source": [
    "## Use Matplotlib to plot density"
   ]
  },
  {
   "cell_type": "code",
   "execution_count": 19,
   "metadata": {},
   "outputs": [],
   "source": [
    "N = 80\n",
    "x1s = np.linspace(-3,3,N)\n",
    "x2s = np.linspace(-4,4,N)\n",
    "\n",
    "pdf_vals = np.zeros((N,N))\n",
    "for i in range(N):\n",
    "    for j in range(N):\n",
    "        x = np.array([x1s[i], x2s[j] ])\n",
    "        pdf_vals[i,j] = np.exp( LogGaussianDensity(x, mu, sigma) )"
   ]
  },
  {
   "cell_type": "code",
   "execution_count": 20,
   "metadata": {},
   "outputs": [
    {
     "data": {
      "text/plain": [
       "<matplotlib.contour.QuadContourSet at 0x11b1502b0>"
      ]
     },
     "execution_count": 20,
     "metadata": {},
     "output_type": "execute_result"
    },
    {
     "data": {
      "image/png": "[encoded data removed]",
      "text/plain": [
       "<Figure size 432x288 with 1 Axes>"
      ]
     },
     "metadata": {
      "needs_background": "light"
     },
     "output_type": "display_data"
    }
   ],
   "source": [
    "plt.contour(x1s,x2s,pdf_vals)"
   ]
  },
  {
   "cell_type": "markdown",
   "metadata": {},
   "source": [
    "## Breakout Exercise:\n",
    "Using the matrix $A$ and variance $\\sigma_\\epsilon^2$ defined in the following code cell, compute the mean and covariance of $AX + \\epsilon$, where $A$ is a matrix, and $\\epsilon$ is a vector of Gaussian random variables with mean $0$ and covariance $\\sigma_\\epsilon^2 I$.\n",
    "1. Construct the covariance $\\sigma_\\epsilon^2 I$ (already done).\n",
    "1. Create a new variable named `sigma2` holding the covariance\n",
    "1. Create a new variable named `mu2` holding the mean.\n",
    "1. (Bonus) Construct a function called `GaussianTransform` that returns the transformed mean and covariance."
   ]
  },
  {
   "cell_type": "markdown",
   "metadata": {},
   "source": [
    "$$\n",
    "X\\sim N(\\mu,\\Sigma) \\quad \\Rightarrow \\quad (AX+b)\\sim N(A\\mu + b, A\\Sigma A^T)\n",
    "$$\n",
    "\n",
    "\n",
    "$$\n",
    "Y = AX \\sim N(A\\mu, A\\Sigma A^T)\n",
    "$$\n",
    "\n",
    "\n",
    "$$\n",
    "Y+\\epsilon \\sim N(A\\mu + 0, A\\Sigma A^T + \\sigma_\\epsilon^2 I)\n",
    "$$"
   ]
  },
  {
   "cell_type": "code",
   "execution_count": 23,
   "metadata": {},
   "outputs": [],
   "source": [
    "A = np.array([[1.2,1],\n",
    "              [0.5, 0.1]])\n",
    "\n",
    "eps_var = 0.1\n",
    "eps_cov = eps_var*np.eye(2)\n",
    "\n",
    "mu2 = A@mu\n",
    "sigma2 = A@sigma@A.T + eps_cov"
   ]
  },
  {
   "cell_type": "code",
   "execution_count": 25,
   "metadata": {},
   "outputs": [],
   "source": [
    "def GaussianTransform(A, mean, cov, eps_var):\n",
    "    \n",
    "    eps_cov = eps_var*np.eye(A.shape[0])\n",
    "\n",
    "    mu2 = A@mean\n",
    "    sigma2 = A@cov@A.T + eps_cov\n",
    "    \n",
    "    return mu2, sigma2\n",
    "    "
   ]
  },
  {
   "cell_type": "code",
   "execution_count": 24,
   "metadata": {},
   "outputs": [
    {
     "name": "stdout",
     "output_type": "stream",
     "text": [
      "[2.2 0.6]\n",
      "[[4.74 1.11]\n",
      " [1.11 0.42]]\n"
     ]
    }
   ],
   "source": [
    "print(mu2)\n",
    "print(sigma2)"
   ]
  },
  {
   "cell_type": "code",
   "execution_count": 28,
   "metadata": {},
   "outputs": [
    {
     "name": "stdout",
     "output_type": "stream",
     "text": [
      "[2.2 0.6]\n",
      "[[4.74 1.11]\n",
      " [1.11 0.42]]\n"
     ]
    }
   ],
   "source": [
    "mu3, sigma3 = GaussianTransform(A, mu, sigma, eps_var)\n",
    "print(mu3)\n",
    "print(sigma3)"
   ]
  },
  {
   "cell_type": "markdown",
   "metadata": {},
   "source": [
    "## Read in NSIDC data"
   ]
  },
  {
   "cell_type": "code",
   "execution_count": 33,
   "metadata": {},
   "outputs": [
    {
     "name": "stderr",
     "output_type": "stream",
     "text": [
      "//anaconda3/lib/python3.7/site-packages/ipykernel_launcher.py:1: ParserWarning: Falling back to the 'python' engine because the 'c' engine does not support regex separators (separators > 1 char and different from '\\s+' are interpreted as regex); you can avoid this warning by specifying engine='python'.\n",
      "  \"\"\"Entry point for launching an IPython kernel.\n"
     ]
    }
   ],
   "source": [
    "df = pd.read_csv('data/N_09_extent_v3.0.csv', sep='\\s*,\\s*')"
   ]
  },
  {
   "cell_type": "code",
   "execution_count": 34,
   "metadata": {},
   "outputs": [
    {
     "data": {
      "text/html": [
       "<div>\n",
       "<style scoped>\n",
       "    .dataframe tbody tr th:only-of-type {\n",
       "        vertical-align: middle;\n",
       "    }\n",
       "\n",
       "    .dataframe tbody tr th {\n",
       "        vertical-align: top;\n",
       "    }\n",
       "\n",
       "    .dataframe thead th {\n",
       "        text-align: right;\n",
       "    }\n",
       "</style>\n",
       "<table border=\"1\" class=\"dataframe\">\n",
       "  <thead>\n",
       "    <tr style=\"text-align: right;\">\n",
       "      <th></th>\n",
       "      <th>year</th>\n",
       "      <th>mo</th>\n",
       "      <th>data-type</th>\n",
       "      <th>region</th>\n",
       "      <th>extent</th>\n",
       "      <th>area</th>\n",
       "    </tr>\n",
       "  </thead>\n",
       "  <tbody>\n",
       "    <tr>\n",
       "      <th>0</th>\n",
       "      <td>1979</td>\n",
       "      <td>9</td>\n",
       "      <td>Goddard</td>\n",
       "      <td>N</td>\n",
       "      <td>7.05</td>\n",
       "      <td>4.58</td>\n",
       "    </tr>\n",
       "    <tr>\n",
       "      <th>1</th>\n",
       "      <td>1980</td>\n",
       "      <td>9</td>\n",
       "      <td>Goddard</td>\n",
       "      <td>N</td>\n",
       "      <td>7.67</td>\n",
       "      <td>4.87</td>\n",
       "    </tr>\n",
       "    <tr>\n",
       "      <th>2</th>\n",
       "      <td>1981</td>\n",
       "      <td>9</td>\n",
       "      <td>Goddard</td>\n",
       "      <td>N</td>\n",
       "      <td>7.14</td>\n",
       "      <td>4.44</td>\n",
       "    </tr>\n",
       "    <tr>\n",
       "      <th>3</th>\n",
       "      <td>1982</td>\n",
       "      <td>9</td>\n",
       "      <td>Goddard</td>\n",
       "      <td>N</td>\n",
       "      <td>7.30</td>\n",
       "      <td>4.43</td>\n",
       "    </tr>\n",
       "    <tr>\n",
       "      <th>4</th>\n",
       "      <td>1983</td>\n",
       "      <td>9</td>\n",
       "      <td>Goddard</td>\n",
       "      <td>N</td>\n",
       "      <td>7.39</td>\n",
       "      <td>4.70</td>\n",
       "    </tr>\n",
       "  </tbody>\n",
       "</table>\n",
       "</div>"
      ],
      "text/plain": [
       "   year  mo data-type region  extent  area\n",
       "0  1979   9   Goddard      N    7.05  4.58\n",
       "1  1980   9   Goddard      N    7.67  4.87\n",
       "2  1981   9   Goddard      N    7.14  4.44\n",
       "3  1982   9   Goddard      N    7.30  4.43\n",
       "4  1983   9   Goddard      N    7.39  4.70"
      ]
     },
     "execution_count": 34,
     "metadata": {},
     "output_type": "execute_result"
    }
   ],
   "source": [
    "df.head()"
   ]
  },
  {
   "cell_type": "code",
   "execution_count": 35,
   "metadata": {},
   "outputs": [
    {
     "name": "stdout",
     "output_type": "stream",
     "text": [
      "Index(['year', 'mo', 'data-type', 'region', 'extent', 'area'], dtype='object')\n"
     ]
    }
   ],
   "source": [
    "print(df.keys())"
   ]
  },
  {
   "cell_type": "code",
   "execution_count": 37,
   "metadata": {},
   "outputs": [
    {
     "data": {
      "text/plain": [
       "[<matplotlib.lines.Line2D at 0x11b4e2e48>]"
      ]
     },
     "execution_count": 37,
     "metadata": {},
     "output_type": "execute_result"
    },
    {
     "data": {
      "image/png": "[encoded data removed]",
      "text/plain": [
       "<Figure size 432x288 with 1 Axes>"
      ]
     },
     "metadata": {
      "needs_background": "light"
     },
     "output_type": "display_data"
    }
   ],
   "source": [
    "plt.plot(df['year'], df['area'])"
   ]
  },
  {
   "cell_type": "markdown",
   "metadata": {},
   "source": [
    "### Regression"
   ]
  },
  {
   "cell_type": "code",
   "execution_count": 40,
   "metadata": {},
   "outputs": [
    {
     "name": "stdout",
     "output_type": "stream",
     "text": [
      "<class 'numpy.ndarray'>\n"
     ]
    }
   ],
   "source": [
    "years = df['year'].to_numpy() - 1979\n",
    "print(type(years))"
   ]
  },
  {
   "cell_type": "code",
   "execution_count": 41,
   "metadata": {},
   "outputs": [
    {
     "name": "stdout",
     "output_type": "stream",
     "text": [
      "[ 0  1  2  3  4  5  6  7  8  9 10 11 12 13 14 15 16 17 18 19 20 21 22 23\n",
      " 24 25 26 27 28 29 30 31 32 33 34 35 36 37 38 39 40]\n"
     ]
    }
   ],
   "source": [
    "print(years)"
   ]
  },
  {
   "cell_type": "code",
   "execution_count": 42,
   "metadata": {},
   "outputs": [
    {
     "name": "stdout",
     "output_type": "stream",
     "text": [
      "[[ 1.  0.]\n",
      " [ 1.  1.]\n",
      " [ 1.  2.]\n",
      " [ 1.  3.]\n",
      " [ 1.  4.]\n",
      " [ 1.  5.]\n",
      " [ 1.  6.]\n",
      " [ 1.  7.]\n",
      " [ 1.  8.]\n",
      " [ 1.  9.]\n",
      " [ 1. 10.]\n",
      " [ 1. 11.]\n",
      " [ 1. 12.]\n",
      " [ 1. 13.]\n",
      " [ 1. 14.]\n",
      " [ 1. 15.]\n",
      " [ 1. 16.]\n",
      " [ 1. 17.]\n",
      " [ 1. 18.]\n",
      " [ 1. 19.]\n",
      " [ 1. 20.]\n",
      " [ 1. 21.]\n",
      " [ 1. 22.]\n",
      " [ 1. 23.]\n",
      " [ 1. 24.]\n",
      " [ 1. 25.]\n",
      " [ 1. 26.]\n",
      " [ 1. 27.]\n",
      " [ 1. 28.]\n",
      " [ 1. 29.]\n",
      " [ 1. 30.]\n",
      " [ 1. 31.]\n",
      " [ 1. 32.]\n",
      " [ 1. 33.]\n",
      " [ 1. 34.]\n",
      " [ 1. 35.]\n",
      " [ 1. 36.]\n",
      " [ 1. 37.]\n",
      " [ 1. 38.]\n",
      " [ 1. 39.]\n",
      " [ 1. 40.]]\n"
     ]
    }
   ],
   "source": [
    "# Build vandermonde matrix\n",
    "num_years = years.shape[0]\n",
    "V = np.ones((num_years,2))\n",
    "\n",
    "V[:,1] = years\n",
    "\n",
    "print(V)"
   ]
  },
  {
   "cell_type": "markdown",
   "metadata": {},
   "source": [
    "$$\n",
    "f(x|y=\\bar{y}) = N\\left(\\mu_x + \\Sigma_{xy}\\Sigma_{yy}^{-1}(\\bar{y}-\\mu_y), \\Sigma_{xx} - \\Sigma_{xy}\\Sigma_{yy}^{-1}\\Sigma_{xy}^T \\right)\n",
    "$$"
   ]
  },
  {
   "cell_type": "code",
   "execution_count": 45,
   "metadata": {},
   "outputs": [],
   "source": [
    "prior_mu = np.array([4.0, 0])\n",
    "prior_cov = (4.0**2)*np.eye(2)"
   ]
  },
  {
   "cell_type": "code",
   "execution_count": 46,
   "metadata": {},
   "outputs": [
    {
     "name": "stdout",
     "output_type": "stream",
     "text": [
      "[4. 0.]\n",
      "[[16.  0.]\n",
      " [ 0. 16.]]\n"
     ]
    }
   ],
   "source": [
    "print(prior_mu)\n",
    "print(prior_cov)"
   ]
  },
  {
   "cell_type": "code",
   "execution_count": 48,
   "metadata": {},
   "outputs": [],
   "source": [
    "sigma_xy = prior_cov @ V.T\n",
    "\n",
    "\n",
    "obs_var = 0.5**2\n",
    "mu_y, sigma_yy = GaussianTransform(V, prior_mu, prior_cov, obs_var)"
   ]
  },
  {
   "cell_type": "code",
   "execution_count": 49,
   "metadata": {},
   "outputs": [],
   "source": [
    "y_obs = df['area'].to_numpy()\n",
    "post_mu = prior_mu + sigma_xy @ np.linalg.solve(sigma_yy, y_obs-mu_y)"
   ]
  },
  {
   "cell_type": "code",
   "execution_count": 50,
   "metadata": {},
   "outputs": [
    {
     "name": "stdout",
     "output_type": "stream",
     "text": [
      "[ 5.1471265  -0.04801233]\n"
     ]
    }
   ],
   "source": [
    "print(post_mu)"
   ]
  },
  {
   "cell_type": "code",
   "execution_count": 53,
   "metadata": {},
   "outputs": [
    {
     "data": {
      "text/plain": [
       "[<matplotlib.lines.Line2D at 0x11b67bdd8>]"
      ]
     },
     "execution_count": 53,
     "metadata": {},
     "output_type": "execute_result"
    },
    {
     "data": {
      "image/png": "[encoded data removed]",
      "text/plain": [
       "<Figure size 432x288 with 1 Axes>"
      ]
     },
     "metadata": {
      "needs_background": "light"
     },
     "output_type": "display_data"
    }
   ],
   "source": [
    "plt.plot(df['year'], y_obs, '.')\n",
    "\n",
    "pred_y = V@post_mu\n",
    "plt.plot(df['year'], pred_y)"
   ]
  },
  {
   "cell_type": "code",
   "execution_count": null,
   "metadata": {},
   "outputs": [],
   "source": []
  }
 ],
 "metadata": {
  "kernelspec": {
   "display_name": "Python 3",
   "language": "python",
   "name": "python3"
  },
  "language_info": {
   "codemirror_mode": {
    "name": "ipython",
    "version": 3
   },
   "file_extension": ".py",
   "mimetype": "text/x-python",
   "name": "python",
   "nbconvert_exporter": "python",
   "pygments_lexer": "ipython3",
   "version": "3.7.3"
  }
 },
 "nbformat": 4,
 "nbformat_minor": 4
}
