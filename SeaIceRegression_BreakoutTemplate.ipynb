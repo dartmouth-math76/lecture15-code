{
 "cells": [
  {
   "cell_type": "markdown",
   "metadata": {},
   "source": [
    "## Useful Gaussian Identities\n",
    "\n",
    "#### Density Function\n",
    "$$\n",
    "\\begin{eqnarray*}\n",
    "f(x) &=& N(\\mu,\\Sigma)\\\\\n",
    "& = & (2\\pi)^{-\\frac{d}{2}} \\det(\\Sigma)^{-\\frac{1}{2}} \\exp\\left[-\\frac{1}{2}(x-\\mu)^T\\Sigma^{-1}(x-\\mu) \\right]\n",
    "\\end{eqnarray*}\n",
    "$$\n",
    "Or in log form\n",
    "$$\n",
    "\\log f(x) = -\\frac{d}{2}\\log(2\\pi) - \\frac{1}{2} \\log\\det(\\Sigma) -\\frac{1}{2}(x-\\mu)^T\\Sigma^{-1}(x-\\mu) \n",
    "$$\n",
    "\n",
    "#### Linear Transformations\n",
    "$$\n",
    "X\\sim N(\\mu,\\Sigma) \\quad \\Rightarrow \\quad (AX+b)\\sim N(A\\mu + b, A\\Sigma A^T)\n",
    "$$\n",
    "\n",
    "#### Block Definition of Joint Density\n",
    "$$\n",
    "\\begin{eqnarray*}\n",
    "f(x,y) = N\\left(\\left[\\begin{array}{c}\\mu_x\\\\ \\mu_y\\end{array}\\right], \\left[\\begin{array}{cc}\\Sigma_{xx} & \\Sigma_{xy}\\\\ \\Sigma_{xy}^T & \\Sigma_{yy} \\end{array}\\right]\\right)\n",
    "\\end{eqnarray*}\n",
    "$$\n",
    "\n",
    "#### Marginal Distributions\n",
    "$$\n",
    "\\begin{eqnarray*}\n",
    "f(x) = \\int_{\\Omega_y} f(x,y) dy = N(\\mu_x, \\Sigma_{xx})\\\\\n",
    "\\end{eqnarray*}\n",
    "$$\n",
    "\n",
    "#### Conditional Distributions\n",
    "$$\n",
    "f(x|y=\\bar{y}) = N\\left(\\mu_x + \\Sigma_{xy}\\Sigma_{yy}^{-1}(\\bar{y}-\\mu_y), \\Sigma_{xx} - \\Sigma_{xy}\\Sigma_{yy}^{-1}\\Sigma_{xy}^T \\right)\n",
    "$$\n"
   ]
  },
  {
   "cell_type": "code",
   "execution_count": 1,
   "metadata": {},
   "outputs": [],
   "source": [
    "%matplotlib inline\n",
    "\n",
    "import numpy as np\n",
    "import pandas as pd\n",
    "import matplotlib.pyplot as plt"
   ]
  },
  {
   "cell_type": "markdown",
   "metadata": {},
   "source": [
    "## The Multivariate Gaussian Density Function"
   ]
  },
  {
   "cell_type": "code",
   "execution_count": 2,
   "metadata": {},
   "outputs": [
    {
     "name": "stdout",
     "output_type": "stream",
     "text": [
      "[[0. 0.]\n",
      " [0. 0.]]\n"
     ]
    }
   ],
   "source": [
    "sigma = np.array([[1, 0.5],\n",
    "                  [0.5, 1.0]])\n",
    "\n",
    "print(sigma-sigma.T)"
   ]
  },
  {
   "cell_type": "code",
   "execution_count": null,
   "metadata": {},
   "outputs": [],
   "source": []
  },
  {
   "cell_type": "code",
   "execution_count": 3,
   "metadata": {},
   "outputs": [
    {
     "name": "stdout",
     "output_type": "stream",
     "text": [
      "-1.261764163645449\n"
     ]
    }
   ],
   "source": [
    "mu = np.ones(2)\n",
    "\n",
    "x = np.array([0.1,0.2])\n",
    "\n",
    "\n",
    "d = mu.shape[0]\n",
    "\n",
    "sign, log_det = np.linalg.slogdet(sigma)\n",
    "part = np.linalg.solve(sigma, x-mu)\n",
    "log_pdf = -0.5*np.log(2.0*np.pi) - 0.5*log_det - 0.5*(x-mu).T @ part\n",
    "\n",
    "print(log_pdf)"
   ]
  },
  {
   "cell_type": "code",
   "execution_count": 4,
   "metadata": {},
   "outputs": [],
   "source": [
    "\n",
    "def LogGaussianDensity(x, mu, sigma):\n",
    "    \n",
    "    d = mu.shape[0]\n",
    "\n",
    "    sign, log_det = np.linalg.slogdet(sigma)\n",
    "    part = np.linalg.solve(sigma, x-mu)\n",
    "    log_pdf = -0.5*np.log(2.0*np.pi) - 0.5*log_det - 0.5*(x-mu).T @ part\n",
    "    \n",
    "    return log_pdf\n"
   ]
  },
  {
   "cell_type": "code",
   "execution_count": 5,
   "metadata": {},
   "outputs": [],
   "source": [
    "N = 80\n",
    "x1s = np.linspace(-6,6,N)\n",
    "x2s = np.linspace(-6,6,N)\n",
    "\n",
    "pdf_vals = np.zeros((N,N))\n",
    "for i in range(N):\n",
    "    for j in range(N):\n",
    "        x = np.array([x1s[i], x2s[j]])\n",
    "        pdf_vals[i,j] = np.exp( LogGaussianDensity(x, mu, sigma) )"
   ]
  },
  {
   "cell_type": "code",
   "execution_count": 6,
   "metadata": {},
   "outputs": [
    {
     "data": {
      "text/plain": [
       "<matplotlib.contour.QuadContourSet at 0x1215f57b8>"
      ]
     },
     "execution_count": 6,
     "metadata": {},
     "output_type": "execute_result"
    },
    {
     "data": {
      "image/png": "[encoded data removed]",
      "text/plain": [
       "<Figure size 432x288 with 1 Axes>"
      ]
     },
     "metadata": {
      "needs_background": "light"
     },
     "output_type": "display_data"
    }
   ],
   "source": [
    "plt.contour(x1s,x2s,pdf_vals)"
   ]
  },
  {
   "cell_type": "markdown",
   "metadata": {},
   "source": [
    "## Breakout Exercise:\n",
    "Using the matrix $A$ and variance $\\sigma_\\epsilon^2$ defined in the following code cell, compute the mean and covariance of $AX + \\epsilon$, where $A$ is a matrix, and $\\epsilon$ is a vector of Gaussian random variables with mean $0$ and covariance $\\sigma_\\epsilon^2 I$.\n",
    "1. Construct the covariance $\\sigma_\\epsilon^2 I$ (already done).\n",
    "1. Create a new variable named `sigma2` holding the covariance\n",
    "1. Create a new variable named `mu2` holding the mean.\n",
    "1. (Bonus) Construct a function called `GaussianTransform` that returns the transformed mean and covariance."
   ]
  },
  {
   "cell_type": "code",
   "execution_count": 7,
   "metadata": {},
   "outputs": [],
   "source": [
    "A = np.array([[1.2,1],\n",
    "              [0.5, 0.1]])\n",
    "\n",
    "eps_var = 0.1\n",
    "eps_cov = eps_var*np.eye(2)\n"
   ]
  },
  {
   "cell_type": "code",
   "execution_count": 8,
   "metadata": {},
   "outputs": [],
   "source": [
    "# Put your computations in this cell here...\n"
   ]
  }
 ],
 "metadata": {
  "kernelspec": {
   "display_name": "Python 3",
   "language": "python",
   "name": "python3"
  },
  "language_info": {
   "codemirror_mode": {
    "name": "ipython",
    "version": 3
   },
   "file_extension": ".py",
   "mimetype": "text/x-python",
   "name": "python",
   "nbconvert_exporter": "python",
   "pygments_lexer": "ipython3",
   "version": "3.7.3"
  }
 },
 "nbformat": 4,
 "nbformat_minor": 4
}
